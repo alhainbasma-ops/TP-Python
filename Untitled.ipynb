{
 "cells": [
  {
   "cell_type": "markdown",
   "id": "924e5d26-1869-4652-9dd6-74f526873d2f",
   "metadata": {},
   "source": [
    "# TP1\n",
    "**nom:** Basma<br>\n",
    "**prenom:** Alhain<br>\n",
    "**appoge:** 23010898\n",
    "## ex2\n",
    "\n",
    "\n"
   ]
  },
  {
   "cell_type": "code",
   "execution_count": 7,
   "id": "72ffa063-586f-47df-b3f5-cf216fddf931",
   "metadata": {},
   "outputs": [],
   "source": [
    "def syracuse(n,N):\n",
    "    if n==0 : return N\n",
    "    u_preced=syracuse(n-1,N)\n",
    "    if u_preced % 2==0 : return u_preced/2\n",
    "    else : return 3*u_preced + 1\n"
   ]
  },
  {
   "cell_type": "code",
   "execution_count": 8,
   "id": "4bdf8e9e-67fd-4578-8b41-11eae5cbdfde",
   "metadata": {},
   "outputs": [
    {
     "data": {
      "text/plain": [
       "2.0"
      ]
     },
     "execution_count": 8,
     "metadata": {},
     "output_type": "execute_result"
    }
   ],
   "source": [
    "syracuse(5,1)"
   ]
  },
  {
   "cell_type": "markdown",
   "id": "71585e52-60c4-489b-8c0d-11fdea81b7ae",
   "metadata": {},
   "source": [
    "## qst2"
   ]
  },
  {
   "cell_type": "code",
   "execution_count": 9,
   "id": "b9d8519d-8b34-4b68-b9a0-35878632b11b",
   "metadata": {},
   "outputs": [],
   "source": [
    "def indice(N):\n",
    "    n=0\n",
    "    while syracuse(n ,N) != 1:\n",
    "        n= n + 1\n",
    "    return n    "
   ]
  },
  {
   "cell_type": "code",
   "execution_count": 10,
   "id": "8d9aae74-e181-4e42-a960-b3d8d2bc0de9",
   "metadata": {},
   "outputs": [
    {
     "data": {
      "text/plain": [
       "16"
      ]
     },
     "execution_count": 10,
     "metadata": {},
     "output_type": "execute_result"
    }
   ],
   "source": [
    "indice(7)"
   ]
  },
  {
   "cell_type": "markdown",
   "id": "d9821bf3-c9ec-4a07-8682-f6c4e00c9190",
   "metadata": {},
   "source": [
    "## ex3"
   ]
  },
  {
   "cell_type": "code",
   "execution_count": 15,
   "id": "b6ca3da2-9f6c-476c-a153-d681e3a04d6e",
   "metadata": {},
   "outputs": [],
   "source": [
    "def factoriel(n):\n",
    "    fact = 1\n",
    "    for i in range (2,n+1):\n",
    "      fact=fact*i\n",
    "    return fact\n",
    "    "
   ]
  },
  {
   "cell_type": "code",
   "execution_count": 16,
   "id": "4c779f11-e1a0-46a9-8706-b79ed0f3089d",
   "metadata": {},
   "outputs": [
    {
     "data": {
      "text/plain": [
       "24"
      ]
     },
     "execution_count": 16,
     "metadata": {},
     "output_type": "execute_result"
    }
   ],
   "source": [
    "factoriel(4)"
   ]
  },
  {
   "cell_type": "markdown",
   "id": "fe0ed5b4-deff-4ed5-971f-541046ce4987",
   "metadata": {},
   "source": [
    "## ex4"
   ]
  },
  {
   "cell_type": "code",
   "execution_count": 3,
   "id": "755643ae-f96a-4061-8954-c972dcf9dd73",
   "metadata": {},
   "outputs": [],
   "source": [
    "def premier(p):\n",
    "    if p <=1 :\n",
    "        return False\n",
    "    for i in range (2,p):\n",
    "        if p%i == 0 :\n",
    "             return False \n",
    "            \n",
    "    return True "
   ]
  },
  {
   "cell_type": "code",
   "execution_count": 16,
   "id": "3da6b64f-912f-4d71-9665-e72d25a50975",
   "metadata": {},
   "outputs": [],
   "source": [
    "a=premier(5)"
   ]
  },
  {
   "cell_type": "code",
   "execution_count": 16,
   "id": "1c9e8057-aef0-40c4-b570-a6718368fe0a",
   "metadata": {},
   "outputs": [],
   "source": []
  },
  {
   "cell_type": "markdown",
   "id": "4323c19e-3073-4bed-ac36-7fc966a8542a",
   "metadata": {},
   "source": [
    "## ex5"
   ]
  },
  {
   "cell_type": "code",
   "execution_count": 14,
   "id": "d86ae047-41e1-47b1-8ecf-311e3bde0a38",
   "metadata": {},
   "outputs": [],
   "source": [
    "def parfait(p):\n",
    "    somme = 0\n",
    "    for i in range (1,p):\n",
    "        if p % i ==  0:\n",
    "          somme += i\n",
    "    return somme == p"
   ]
  },
  {
   "cell_type": "code",
   "execution_count": 15,
   "id": "b0c0afb4-a261-4a86-acc2-6a7bf8b34d02",
   "metadata": {},
   "outputs": [
    {
     "data": {
      "text/plain": [
       "True"
      ]
     },
     "execution_count": 15,
     "metadata": {},
     "output_type": "execute_result"
    }
   ],
   "source": [
    "parfait(6)"
   ]
  },
  {
   "cell_type": "markdown",
   "id": "a6002963-79ce-4d8a-af9e-4526590d753f",
   "metadata": {},
   "source": [
    "## ex6"
   ]
  },
  {
   "cell_type": "code",
   "execution_count": null,
   "id": "be445c09-8ff4-4039-a933-e41360c3c5e1",
   "metadata": {},
   "outputs": [],
   "source": []
  }
 ],
 "metadata": {
  "kernelspec": {
   "display_name": "Python 3 (ipykernel)",
   "language": "python",
   "name": "python3"
  },
  "language_info": {
   "codemirror_mode": {
    "name": "ipython",
    "version": 3
   },
   "file_extension": ".py",
   "mimetype": "text/x-python",
   "name": "python",
   "nbconvert_exporter": "python",
   "pygments_lexer": "ipython3",
   "version": "3.13.5"
  }
 },
 "nbformat": 4,
 "nbformat_minor": 5
}
